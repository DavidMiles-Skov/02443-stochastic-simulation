{
 "cells": [
  {
   "cell_type": "code",
   "execution_count": 1,
   "metadata": {},
   "outputs": [],
   "source": [
    "import numpy as np\n",
    "import matplotlib.pyplot as plt\n",
    "from math import factorial\n",
    "from collections import Counter\n",
    "from scipy import stats\n"
   ]
  },
  {
   "cell_type": "code",
   "execution_count": 3,
   "metadata": {},
   "outputs": [
    {
     "name": "stdout",
     "output_type": "stream",
     "text": [
      "[[1.00000000e+00 5.04540868e-03 2.50125063e-03 0.00000000e+00\n",
      "  9.80392157e-04]\n",
      " [0.00000000e+00 9.94954591e-01 5.00250125e-03 4.00801603e-03\n",
      "  4.90196078e-03]\n",
      " [0.00000000e+00 0.00000000e+00 9.92496248e-01 3.00601202e-03\n",
      "  4.90196078e-03]\n",
      " [0.00000000e+00 0.00000000e+00 0.00000000e+00 9.92985972e-01\n",
      "  8.82352941e-03]\n",
      " [0.00000000e+00 0.00000000e+00 0.00000000e+00 0.00000000e+00\n",
      "  9.80392157e-01]]\n"
     ]
    }
   ],
   "source": [
    "P = np.array([[0.9915, 0.005, 0.0025, 0, 0.001],\n",
    "                  [0, 0.986, 0.005, 0.004, 0.005],\n",
    "                  [0, 0, 0.992, 0.003, 0.005],\n",
    "                  [0, 0, 0, 0.991, 0.009],\n",
    "                [0, 0, 0, 0, 1]])\n",
    "\n",
    "\n",
    "print(P/sum(P))"
   ]
  }
 ],
 "metadata": {
  "kernelspec": {
   "display_name": "base",
   "language": "python",
   "name": "python3"
  },
  "language_info": {
   "codemirror_mode": {
    "name": "ipython",
    "version": 3
   },
   "file_extension": ".py",
   "mimetype": "text/x-python",
   "name": "python",
   "nbconvert_exporter": "python",
   "pygments_lexer": "ipython3",
   "version": "3.7.16"
  },
  "orig_nbformat": 4
 },
 "nbformat": 4,
 "nbformat_minor": 2
}
