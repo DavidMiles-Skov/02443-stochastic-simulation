{
 "cells": [
  {
   "attachments": {},
   "cell_type": "markdown",
   "metadata": {},
   "source": [
    "Write a discrete event simulation program for a blocking system, i.e. a system with m service units and no waiting room. The offered traffic A is the product of the mean arrival rate and the mean service time.\n",
    "1. The arrival process is modelled as a Poisson process. Report the fraction of blocked customers, and a confidence interval for this fraction. Choose the service time distribution as exponential. Parameters: m = 10, mean service time = 8 time units, mean time between customers = 1 time unit (corresponding to an offered traffic of 8 Erlang), 10 x 10.000 customers."
   ]
  },
  {
   "cell_type": "code",
   "execution_count": 1,
   "metadata": {},
   "outputs": [],
   "source": [
    "from numpy import random\n",
    "import matplotlib.pyplot as plt\n",
    "import seaborn as sns\n",
    "import math\n",
    "import numpy as np\n",
    "import scipy.stats as st"
   ]
  },
  {
   "attachments": {},
   "cell_type": "markdown",
   "metadata": {},
   "source": []
  },
  {
   "cell_type": "code",
   "execution_count": 389,
   "metadata": {},
   "outputs": [
    {
     "name": "stdout",
     "output_type": "stream",
     "text": [
      "Inter-arrival-time distribution: exponential \n",
      "Service-time distribution: exponential\n",
      "fraction blocked: 0.12044000000000002\n",
      "fraction Erlang blocked: 0.12166106425295149\n",
      "Confidence interval = (0.11737397142133502, 0.12350602857866502)\n",
      "Width of ci = 0.0061320571573300064\n",
      "Variance = 2.861639999999999e-05\n"
     ]
    }
   ],
   "source": [
    "customers = 10000\n",
    "sim = 10\n",
    "\n",
    "\n",
    "m = 10\n",
    "\n",
    "#mean service time\n",
    "s = 8\n",
    "\n",
    "#mean time between customers, arrival rate 1 customer per time unit\n",
    "mean_tbc = 1\n",
    "arrival_intensity = 1\n",
    "\n",
    "#confidence interval\n",
    "def conf_int (mean, std, n):\n",
    "       Z = st.t.ppf(0.95, sim)\n",
    "       return (mean - Z * (std/math.sqrt(n)), mean + Z * (std/math.sqrt(n)))\n",
    "\n",
    "\n",
    "A = arrival_intensity * s\n",
    "def Erlang_B (A, m):\n",
    "    d = 0\n",
    " \n",
    "    for i in range(m+1):\n",
    "        d = d + A**i / math.factorial(i)\n",
    "\n",
    "    return ( (A**m) / math.factorial(m) ) / d\n",
    "\n",
    "\n",
    "def blocking_system (inter_arrival_dist, service_times_dist, m, s, customers, sim):\n",
    "  fract_blocked_counts = []\n",
    "  blocked_customer_count = 0\n",
    "\n",
    "  #set service time for all units to zero\n",
    "  service_unit_time = np.zeros(m)\n",
    "\n",
    "  for _ in range(sim):\n",
    "    blocked_customer_count = 0\n",
    "    #go through all customers\n",
    "    for i in range(customers):\n",
    "      #generate random arrival time for coming customer\n",
    "      if (inter_arrival_dist == \"hyper-exponential\"):\n",
    "        e = np.random.exponential((1/0.8333), 1)*0.8 + np.random.exponential(1/5, 1)*0.2\n",
    "        arrival_time =  e[0]\n",
    "      elif (inter_arrival_dist == \"erlang\") :\n",
    "        arrival_time = st.erlang.rvs(1, size=1, scale=mean_tbc)[0]\n",
    "      else:\n",
    "         arrival_time = np.random.exponential(1, 1)[0]\n",
    "\n",
    "      #arrival_time = inter_arrival_dist[i]\n",
    "\n",
    "      #subtract the arrival time from the service units times\n",
    "      service_unit_time -= arrival_time\n",
    "\n",
    "      #sort the service units with increasing time\n",
    "      service_unit_time = np.sort(np.maximum(service_unit_time, 0.0))\n",
    "\n",
    "      #check if there are service units \n",
    "      if (len([i for i in service_unit_time if i < 0.1]) == 0):\n",
    "        blocked_customer_count += 1\n",
    "      else:\n",
    "        if (service_times_dist == \"exponential\"):\n",
    "          service_unit_time[0] = np.random.exponential(8, 1)[0]\n",
    "        elif (service_times_dist == \"constant\"):\n",
    "          service_unit_time[0] = s\n",
    "        elif (service_times_dist == \"pareto_1.05\"):\n",
    "          x_m = s * (1.05 - 1) / 1.05\n",
    "          service_unit_time[0] = (( np.random.pareto(1.05, size=1) + 1) * x_m ) [0]\n",
    "        elif (service_times_dist == \"pareto_2.05\"):\n",
    "          x_m = s * (2.05 - 1) / 2.05\n",
    "          service_unit_time[0] = (( np.random.pareto(2.05, size=1) + 1) * x_m ) [0]\n",
    "        elif (service_times_dist == \"chi-squared\"):\n",
    "          service_unit_time[0] = np.random.chisquare(s, 1)[0]\n",
    "        else:\n",
    "           service_unit_time[0] = np.random.exponential(8, 1)[0]\n",
    "\n",
    "        #service_unit_time[0] = service_times_dist[i]\n",
    "                \n",
    "    fract_blocked_counts.append(blocked_customer_count/customers)\n",
    "\n",
    "  print(f\"Inter-arrival-time distribution: {inter_arrival_dist} \\nService-time distribution: {service_times_dist}\")\n",
    "  print(\"fraction blocked: \" + str(np.mean(fract_blocked_counts)))\n",
    "  print(\"fraction Erlang blocked: \" + str(Erlang_B (s, m)))\n",
    "  print(\"Confidence interval = \" + str(conf_int (np.mean(fract_blocked_counts), np.std(fract_blocked_counts), sim)))\n",
    "\n",
    "  a, b = conf_int (np.mean(fract_blocked_counts), np.std(fract_blocked_counts), sim)\n",
    "  print(\"Width of ci = \" + str(b-a))\n",
    "  print(\"Variance = \" + str(np.var(fract_blocked_counts)))\n",
    "\n",
    "\n",
    "m = 10\n",
    "\n",
    "p_dist = np.random.exponential(arrival_intensity, customers)\n",
    "# mean service time is 8, so lambda is equal to 8\n",
    "exp_dist = np.random.exponential(8, customers)\n",
    "\n",
    "\n",
    "blocking_system (\"exponential\", \"exponential\", m, s, customers, 10)\n",
    "\n"
   ]
  },
  {
   "attachments": {},
   "cell_type": "markdown",
   "metadata": {},
   "source": [
    "2. The arrival process is modelled as a renewal process using the same parameters as in Part 1 when possible. Report the fraction of blocked customers, and a confidence interval for this fraction for at least the following two cases"
   ]
  },
  {
   "attachments": {},
   "cell_type": "markdown",
   "metadata": {},
   "source": [
    "(a) Experiment with Erlang distributed inter arrival times The Erlang distribution should have a mean of 1"
   ]
  },
  {
   "cell_type": "code",
   "execution_count": 390,
   "metadata": {},
   "outputs": [
    {
     "data": {
      "image/png": "[encoded data removed]",
      "text/plain": [
       "<Figure size 640x480 with 1 Axes>"
      ]
     },
     "metadata": {},
     "output_type": "display_data"
    },
    {
     "name": "stdout",
     "output_type": "stream",
     "text": [
      "Inter-arrival-time distribution: erlang \n",
      "Service-time distribution: exponential\n",
      "fraction blocked: 0.11877\n",
      "fraction Erlang blocked: 0.12166106425295149\n",
      "Confidence interval = (0.11542061794150624, 0.12211938205849376)\n",
      "Width of ci = 0.006698764116987527\n",
      "Variance = 3.415009999999998e-05\n"
     ]
    }
   ],
   "source": [
    "l = 1\n",
    "u = np.random.uniform(low=1, high=10, size=customers)\n",
    "t = 0\n",
    "s = 8.0\n",
    "\n",
    "# erlang should have a mean of 1, so lambda is 1\n",
    "erl = st.erlang.rvs(1, size=customers, scale=mean_tbc)\n",
    "exp_dist = np.random.exponential(8, customers)\n",
    "sns.histplot(erl, kde=False)\n",
    "plt.show()\n",
    "\n",
    "\n",
    "#blocking_system (erl, exp_dist, m, s, customers, 10)\n",
    "blocking_system (\"erlang\", \"exponential\", m, s, customers, 10)\n",
    "\n",
    "\n"
   ]
  },
  {
   "attachments": {},
   "cell_type": "markdown",
   "metadata": {},
   "source": [
    "(b) hyper exponential inter arrival times. The parameters for the hyper exponential distribution should be\n",
    "p1 = 0.8,λ1 = 0.8333,p2 = 0.2,λ2 = 5.0."
   ]
  },
  {
   "cell_type": "code",
   "execution_count": 391,
   "metadata": {},
   "outputs": [
    {
     "data": {
      "image/png": "[encoded data removed]",
      "text/plain": [
       "<Figure size 640x480 with 1 Axes>"
      ]
     },
     "metadata": {},
     "output_type": "display_data"
    },
    {
     "name": "stdout",
     "output_type": "stream",
     "text": [
      "Inter-arrival-time distribution: hyper-exponential \n",
      "Service-time distribution: exponential\n",
      "fraction blocked: 0.11282\n",
      "fraction Erlang blocked: 0.12166106425295149\n",
      "Confidence interval = (0.10813249756446182, 0.11750750243553819)\n",
      "Width of ci = 0.00937500487107637\n",
      "Variance = 6.68876e-05\n"
     ]
    }
   ],
   "source": [
    "\n",
    "hypexp = []\n",
    "exp_dist = np.random.exponential(8, customers)\n",
    "u = np.random.uniform(0,1, customers)\n",
    "m = 10\n",
    "\n",
    "\n",
    "#HYPER EXPONENTIAL DISTRIBUTION\n",
    "sample = np.random.exponential(1/0.8333, customers)*0.8 + np.random.exponential(1/5, customers)*0.2\n",
    "\n",
    "\n",
    "#show plots\n",
    "sns.histplot(sample, kde=False)\n",
    "plt.show()\n",
    "\n",
    "#blocking_system (sample, exp_dist, m, s, customers, 10)\n",
    "blocking_system (\"hyper-exponential\", \"exponential\", m, s, customers, 10)\n"
   ]
  },
  {
   "attachments": {},
   "cell_type": "markdown",
   "metadata": {},
   "source": [
    "\n",
    "3. The arrival process is again a Poisson process like in Part 1. Experiment with different service time distributions with the same mean service time and m as in Part 1 and Part 2."
   ]
  },
  {
   "attachments": {},
   "cell_type": "markdown",
   "metadata": {},
   "source": [
    "(a) Constant service time"
   ]
  },
  {
   "cell_type": "code",
   "execution_count": 392,
   "metadata": {},
   "outputs": [
    {
     "name": "stdout",
     "output_type": "stream",
     "text": [
      "Inter-arrival-time distribution: exponential \n",
      "Service-time distribution: constant\n",
      "fraction blocked: 0.11739000000000002\n",
      "fraction Erlang blocked: 0.12166106425295149\n",
      "Confidence interval = (0.11541110285389926, 0.11936889714610079)\n",
      "Width of ci = 0.0039577942922015275\n",
      "Variance = 1.1920900000000001e-05\n"
     ]
    }
   ],
   "source": [
    "m = 10\n",
    "s = 8.0\n",
    "\n",
    "p_dist = np.random.exponential(1, customers)\n",
    "t_dist = [s for _ in range(customers)]\n",
    "\n",
    "#blocking_system (p_dist, t_dist, m, s, customers, 10)\n",
    "blocking_system (\"exponential\", \"constant\", m, s, customers, 10)"
   ]
  },
  {
   "attachments": {},
   "cell_type": "markdown",
   "metadata": {},
   "source": [
    "(b) Pareto distributed service times with at least k = 1.05 and\n",
    "k = 2.05."
   ]
  },
  {
   "cell_type": "code",
   "execution_count": 393,
   "metadata": {},
   "outputs": [
    {
     "name": "stdout",
     "output_type": "stream",
     "text": [
      "k = 1.05, mean : 0.7258025451472706\n",
      "k = 2.05, mean : 5.02262814908996\n",
      "For k = 1.05: \n",
      "Inter-arrival-time distribution: exponential \n",
      "Service-time distribution: pareto_1.05\n",
      "fraction blocked: 0.0028899999999999998\n",
      "fraction Erlang blocked: 0.12166106425295149\n",
      "Confidence interval = (0.00013202608292900474, 0.005647973917070994)\n",
      "Width of ci = 0.00551594783414199\n",
      "Variance = 2.3154899999999994e-05\n",
      "For k = 2.05: \n",
      "Inter-arrival-time distribution: exponential \n",
      "Service-time distribution: pareto_2.05\n",
      "fraction blocked: 0.11990999999999999\n",
      "fraction Erlang blocked: 0.12166106425295149\n",
      "Confidence interval = (0.11498687713997668, 0.1248331228600233)\n",
      "Width of ci = 0.00984624572004661\n",
      "Variance = 7.378090000000001e-05\n"
     ]
    }
   ],
   "source": [
    "# mst2 = ( (np.random.pareto(1.05, size=customers) + 1) * ( (((2.05-1)* 8)/2.05) ) )\n",
    "#mst2 = np.array([st.pareto.pdf(x, scale=( ((1.05-1)/1.05) * 8), b=1.05)])\n",
    "\n",
    "\n",
    "\n",
    "m = 10\n",
    "s = 8.0\n",
    "p_dist = np.random.exponential(1, size=customers)\n",
    "\n",
    "#Check means of distributions for k = 1.05 and k = 2.05\n",
    "for k0 in [1.05, 2.05]:\n",
    "    x_m1 = s * (k0 - 1) / k0\n",
    "    mst2 = ( np.random.pareto(k0, size=1) + 1) * x_m1\n",
    "    \n",
    "    if k0 == 1.05:\n",
    "        print(\"k = 1.05, mean : \" + str(np.mean(mst2) ))\n",
    "    else:\n",
    "        print(\"k = 2.05, mean : \" + str(np.mean(mst2) ))\n",
    "\n",
    "\n",
    "customers = 10000\n",
    "\n",
    "\n",
    "\n",
    "\n",
    "#take the mean of the fractions of blocked costumers from the simulations\n",
    "#avg_fract_blocked = np.sum(fract_blocked_counts) / sim\n",
    "\n",
    "print(\"For k = 1.05: \")\n",
    "k = 1.05\n",
    "x_m = s * (k - 1) / k\n",
    "d1 = (( np.random.pareto(1.05, size=customers) + 1) * x_m )\n",
    "#blocking_system (p_dist, d1, m, s, customers, 10)\n",
    "blocking_system (\"exponential\", \"pareto_1.05\", m, s, customers, 10)\n",
    "print(\"For k = 2.05: \")\n",
    "k = 2.05\n",
    "x_m = s * (k - 1) / k\n",
    "d2 = (( np.random.pareto(2.05, size=customers) + 1) * x_m )\n",
    "\n",
    "#blocking_system (p_dist, d2 , m, s, customers, 10)\n",
    "blocking_system (\"exponential\", \"pareto_2.05\", m, s, customers, 10)\n",
    "\n"
   ]
  },
  {
   "attachments": {},
   "cell_type": "markdown",
   "metadata": {},
   "source": [
    "(c) Choose one or two other distributions."
   ]
  },
  {
   "attachments": {},
   "cell_type": "markdown",
   "metadata": {},
   "source": [
    "The Pareto distribution with a value of k = 1.05 presents an extremely small number of the fraction of blocked customers. This can be justified by the fact that for values of k that are smaller or equal to 2, the variance is infinite. Thus, the spread of the samples generated is extremely large, which in this case means that the random generated service times are spread enough to allow most service units to become free after the arrival of the next customer. "
   ]
  },
  {
   "cell_type": "code",
   "execution_count": 388,
   "metadata": {},
   "outputs": [
    {
     "data": {
      "image/png": "[encoded data removed]",
      "text/plain": [
       "<Figure size 640x480 with 1 Axes>"
      ]
     },
     "metadata": {},
     "output_type": "display_data"
    },
    {
     "name": "stdout",
     "output_type": "stream",
     "text": [
      "Inter-arrival-time distribution: exponential \n",
      "Service-time distribution: chi-squared\n",
      "fraction blocked: 0.11551\n",
      "fraction Erlang blocked: 0.12166106425295149\n",
      "Confidence interval = (0.11399565646370258, 0.11702434353629743)\n",
      "Width of ci = 0.003028687072594849\n"
     ]
    }
   ],
   "source": [
    "#Chi-squared distribution\n",
    "m = 10\n",
    "s = 8.0\n",
    "\n",
    "mst4 = np.random.exponential(s, customers)\n",
    "g = np.random.chisquare(s, customers)\n",
    "plt.hist(g)\n",
    "plt.show()\n",
    "\n",
    "# blocking_system (p_dist, g, m, s, customers, 10)\n",
    "blocking_system (\"exponential\", \"chi-squared\", m, s, customers, 10)\n"
   ]
  },
  {
   "attachments": {},
   "cell_type": "markdown",
   "metadata": {},
   "source": [
    "The constant distribution for service time presents a 95% confidence interval with the smalest width. The chisquared distribution for the service time presents a similar confidence interval width as the constant distribution. This means that the \n",
    "\n",
    "In general the constant, followed by the erlang, hyperexponential and pareto distributions, present descending level of precision (higher variance).\n",
    "\n",
    "From this exercise we learned that in a blocking system, as long as the arrival process is a Poisson process (interarrival times follow an exponential distribution) then Erlang's B-formula for computing the fraction of blocked customers, given the number of service units, is always valid for any service time distribution. "
   ]
  }
 ],
 "metadata": {
  "kernelspec": {
   "display_name": "Python 3",
   "language": "python",
   "name": "python3"
  },
  "language_info": {
   "codemirror_mode": {
    "name": "ipython",
    "version": 3
   },
   "file_extension": ".py",
   "mimetype": "text/x-python",
   "name": "python",
   "nbconvert_exporter": "python",
   "pygments_lexer": "ipython3",
   "version": "3.10.5"
  },
  "orig_nbformat": 4
 },
 "nbformat": 4,
 "nbformat_minor": 2
}
