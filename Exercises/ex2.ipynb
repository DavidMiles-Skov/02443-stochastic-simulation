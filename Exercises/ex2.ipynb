{
 "cells": [
  {
   "attachments": {},
   "cell_type": "markdown",
   "metadata": {},
   "source": [
    "-------------------\n",
    "\n",
    "### Exercise 2:   Sampling from Discrete Distributions\n"
   ]
  },
  {
   "cell_type": "code",
   "execution_count": 73,
   "metadata": {},
   "outputs": [],
   "source": [
    "# imports\n",
    "\n",
    "import numpy as np\n",
    "import matplotlib.pyplot as plt\n",
    "from scipy.stats import chisquare, kstest\n",
    "from math import log, floor"
   ]
  },
  {
   "attachments": {},
   "cell_type": "markdown",
   "metadata": {},
   "source": [
    "Functions for testing:"
   ]
  },
  {
   "cell_type": "code",
   "execution_count": 74,
   "metadata": {},
   "outputs": [],
   "source": [
    "# Code for performing distribution/correlation tests\n",
    "\n",
    "# def gen_ecdf(numbers):\n",
    "#     y = np.cumsum(numbers)/sum(numbers)\n",
    "#     return y\n",
    "\n",
    "# # def gen_ecdf(numbers):\n",
    "# #     x = np.sort(numbers)\n",
    "# #     n = len(x)\n",
    "# #     y = np.arange(1, n+1) / n\n",
    "# #     return(x,y)\n",
    "\n",
    "def make_histograms(gen_dist, expected_dist):\n",
    "    width = 0.8\n",
    "\n",
    "    indices = [1,2,3,4,5,6]\n",
    "\n",
    "    plt.bar(indices, expected_dist, width=width, \n",
    "            color='b', label='Given Distribution')\n",
    "    plt.bar([i+0.25*width for i in indices], gen_dist, \n",
    "            width=0.5*width, color='r', alpha=0.5, label='Generated Distribution')\n",
    "\n",
    "    plt.legend()\n",
    "\n",
    "    plt.show()\n",
    "\n",
    "\n",
    "def run_test_1(numbers):\n",
    "\n",
    "    median = np.median(np.array(numbers))\n",
    "    n_1 = len([i for i in numbers if i > median])\n",
    "    n_2 = len([i for i in numbers if i < median])\n",
    "\n",
    "    runs_expected = 2*n_1*n_2/(n_1+n_2) + 1 # Mean\n",
    "\n",
    "\n",
    "    numerator = 2*n_1*n_2*(2*n_1*n_2-n_1-n_2)\n",
    "    denominator = ((n_1+n_2)**2)*(n_1+n_2+1)\n",
    "\n",
    "    s_R = np.sqrt(numerator/denominator) # Variance\n",
    "\n",
    "    # calculating number of runs\n",
    "\n",
    "    num_runs = 0\n",
    "    prev_val = \"\"\n",
    "    if numbers[0]>median: prev_val = \"above\"\n",
    "    else: prev_val = \"below\"\n",
    "\n",
    "\n",
    "    for i in numbers[1:]:\n",
    "        if prev_val == \"above\" and i < median: \n",
    "            num_runs += 1\n",
    "            prev_val = \"below\"\n",
    "        elif prev_val == \"below\" and i > median:\n",
    "            num_runs += 1\n",
    "            prev_val = \"above\"\n",
    "\n",
    "    Z = abs((num_runs-runs_expected)/s_R)\n",
    "\n",
    "    return Z\n",
    "\n",
    "def count_up_runs(nums):\n",
    "    R = [0 for _ in range(6)]\n",
    "    current_run = 1\n",
    "\n",
    "    for i in range(1, len(nums)-1):\n",
    "        if nums[i] < nums[i+1]:\n",
    "            if current_run >= 6:\n",
    "                R[-1]+=1\n",
    "            else:\n",
    "                R[current_run-1]+=1\n",
    "            current_run = 1\n",
    "        else:\n",
    "            current_run += 1\n",
    "    return np.array(R)\n",
    "\n",
    "\n",
    "def run_test_2(numbers):\n",
    "    R = count_up_runs(numbers)\n",
    "    \n",
    "    B = np.array([1/6, 5/24, 11/120, 19/720, 29/5040, 1/840])\n",
    "    A = np.array(\n",
    "            [[4529.4, 9044.9, 13568, 18091, 22615, 27892],\n",
    "             [9044.9, 18097, 27139, 36187, 45234, 55789], \n",
    "             [13568, 27139, 40721, 54281, 67852, 83685], \n",
    "             [18091, 36187, 54281, 72414, 90470, 111580], \n",
    "             [22615, 45234, 67852, 90470, 113262, 139476], \n",
    "             [27892, 55789, 83685, 111580, 139476, 172860]], dtype=float)\n",
    "    n = len(numbers)\n",
    "    Z1 = np.transpose((R-n*B))\n",
    "    Z1 = np.matmul(Z1, A)\n",
    "    Z2 = (R-n*B)\n",
    "    Z = (1/(n-6))*np.matmul(Z1, Z2)\n",
    "\n",
    "    return Z\n",
    "\n",
    "def run_test_3(numbers):\n",
    "    # converting \n",
    "    new_lst = []\n",
    "    for i in range(len(numbers)-1):\n",
    "        if numbers[i] < numbers[i+1]:\n",
    "            new_lst.append(\"<\")\n",
    "        else:\n",
    "            new_lst.append(\">\")\n",
    "    \n",
    "    # counting total runs\n",
    "    X = 0\n",
    "    for i in range(len(new_lst)-1):\n",
    "        if new_lst[i] != new_lst[i+1]:\n",
    "            X+=1\n",
    "        \n",
    "    n = len(numbers)\n",
    "\n",
    "    Z = (X-(2*n-1)/3)/np.sqrt((16*n-29)/90)\n",
    "\n",
    "    return Z\n",
    "\n",
    "def auto_corr(X, h):\n",
    "    s = 0\n",
    "    n = len(X)\n",
    "\n",
    "    # Distribution has to be ~ U(0,1)\n",
    "    m = max(X)\n",
    "    U = [i/m for i in X]\n",
    "\n",
    "    for i in range(n-h):\n",
    "        s += U[i]*U[i+h]\n",
    "    return s/(n-h)\n",
    "\n",
    "\n",
    "def test(X, pdf, raw_sample):\n",
    "    \"\"\"\n",
    "    X - Frequency distribution\n",
    "    pdf - six point distriubtion\n",
    "    raw_sample - random sample generated (list of 10000)\n",
    "    \"\"\"\n",
    "    expected = [i*sum(X) for i in pdf] # sum(X) = total number of observations\n",
    "    \n",
    "    print(\"----- Count Distributions -----\")\n",
    "    print(f\"Generated: {X}\")\n",
    "    print(f\"Expected: {expected}\\n\")\n",
    "    \n",
    "\n",
    "    \n",
    "    print(r\"----- Performing chi-squared test (alpha = 5%) -----\")\n",
    "    chisq, p = chisquare(X, f_exp=expected)\n",
    "\n",
    "\n",
    "    print(f\"Test statistic: {chisq}\")\n",
    "    print(f\"P-value: {p}\\n\")\n",
    "\n",
    "    # print(r\"----- Performing Kolmogorov-Smirnov test (alpha = 5%) -----\")\n",
    "\n",
    "    # cdf = np.cumsum(pdf) # F(x) = P(X≤x)\n",
    "    \n",
    "    # X_ecdf = np.cumsum(X)/sum(X)\n",
    "    \n",
    "    # print(f\"Generated ECDF: {X_ecdf}\")\n",
    "    # print(f\"CDF: {cdf}\")\n",
    "\n",
    "    # res = kstest(raw_sample, cdf)\n",
    "    # print(f\"Test statistic: {res.statistic}\")\n",
    "    # print(f\"P-value: {res.pvalue}\\n\")\n",
    "    # plt.scatter([1,2,3,4,5,6], X_ecdf, label=\"ECDF\",marker=\"x\", color=\"b\")\n",
    "    # plt.scatter([1,2,3,4,5,6], cdf, label=\"CDF\", marker=\"x\", color=\"r\")\n",
    "    # plt.legend()\n",
    "    # plt.ylabel(r\"$P(X \\leq x)$\")\n",
    "    # plt.xlabel(r\"$x$\")\n",
    "    # plt.grid()\n",
    "    # plt.title(\"KS-test\")\n",
    "    # plt.show()\n",
    "\n",
    "    \n",
    "\n",
    "    # print(r\"----- Performing Run Tests -----\")\n",
    "    # print(f\"I: {run_test_1(raw_sample)}\")\n",
    "    # print(f\"II: {run_test_2(raw_sample)}\")\n",
    "    # print(f\"III: {run_test_3(raw_sample)}\\n\")\n",
    "\n",
    "    # print(\"----- Correlation Test -----\")\n",
    "    # print(auto_corr(raw_sample, 1))\n",
    "    \n",
    "\n",
    "    pdf_gen = [float(i/sum(X)) for i in X]\n",
    "    print(\"----- Visual Comparison between PDFs -----\")\n",
    "    make_histograms(pdf_gen, pdf)\n"
   ]
  },
  {
   "cell_type": "code",
   "execution_count": 75,
   "metadata": {},
   "outputs": [],
   "source": [
    "def make_freq_dist(X, keys=[1,2,3,4,5,6]):\n",
    "    \n",
    "    freq = []\n",
    "\n",
    "    for i in keys:\n",
    "    \n",
    "        freq.append(X.count(i))\n",
    "\n",
    "    return freq"
   ]
  },
  {
   "attachments": {},
   "cell_type": "markdown",
   "metadata": {},
   "source": [
    "### 1 - Simulating Geometric Distribution\n",
    "\n",
    "Generating multiple random samples from the geometric distribution with varying $p$ values."
   ]
  },
  {
   "cell_type": "code",
   "execution_count": 76,
   "metadata": {},
   "outputs": [],
   "source": [
    "def geometric_dist(U, p):\n",
    "    return [floor(log(i)/log(1-p))+1 for i in U]"
   ]
  },
  {
   "cell_type": "code",
   "execution_count": 77,
   "metadata": {},
   "outputs": [
    {
     "data": {
      "image/png": "[encoded data removed]",
      "text/plain": [
       "<Figure size 640x480 with 1 Axes>"
      ]
     },
     "metadata": {},
     "output_type": "display_data"
    },
    {
     "data": {
      "image/png": "[encoded data removed]",
      "text/plain": [
       "<Figure size 640x480 with 1 Axes>"
      ]
     },
     "metadata": {},
     "output_type": "display_data"
    },
    {
     "data": {
      "image/png": "[encoded data removed]",
      "text/plain": [
       "<Figure size 640x480 with 1 Axes>"
      ]
     },
     "metadata": {},
     "output_type": "display_data"
    }
   ],
   "source": [
    "ps = [0.2, 0.5, 0.8]\n",
    "\n",
    "\n",
    "for p in ps:\n",
    "    \n",
    "    U = np.random.uniform(size=10000)\n",
    "    \n",
    "    g_d, g_d_ref = geometric_dist(U, p), np.random.geometric(p=p, size = 10000)\n",
    "    \n",
    "    plt.hist(g_d, bins=20, color=\"b\", label=\"Generated\",alpha=0.5)\n",
    "    plt.hist(g_d_ref, bins=20, color=\"r\", label=\"Numpy\",alpha=0.5)\n",
    "    plt.title(f\"p={p}\")\n",
    "\n",
    "    plt.legend()\n",
    "\n",
    "    plt.show()\n",
    "    \n",
    "    \n",
    "\n"
   ]
  },
  {
   "attachments": {},
   "cell_type": "markdown",
   "metadata": {},
   "source": [
    "### 2 - 6 Point Distribution Simulation\n",
    "\n",
    "Simulate the 6 point distribution\n",
    "\n",
    "| $X$  |  1 | 2  | 3  | 4  |5   | 6  |\n",
    "|---|---|---|---|---|---|---|\n",
    "| $p_i$  | 7/48  | 5/48  | 1/8  | 1/16  | 1/4  | 5/16  |"
   ]
  },
  {
   "cell_type": "code",
   "execution_count": 78,
   "metadata": {},
   "outputs": [],
   "source": [
    "\n",
    "# 6-point distribution\n",
    "\n",
    "dist_6pt = [7/48, 5/48, 1/8, 1/16, 1/4, 5/16]"
   ]
  },
  {
   "attachments": {},
   "cell_type": "markdown",
   "metadata": {},
   "source": [
    "#### (a) by applying a direct (crude) method"
   ]
  },
  {
   "cell_type": "code",
   "execution_count": 79,
   "metadata": {},
   "outputs": [],
   "source": [
    "# Helper function for crude method of discrete random sampling\n",
    "\n",
    "def insert_into_categories(values, intervals):\n",
    "    \n",
    "    discrete_sample = []\n",
    "\n",
    "    for value in values:\n",
    "        for i, interval in enumerate(intervals): # Linear search    \n",
    "            if interval[0] < value and value <= interval[1]:\n",
    "    \n",
    "                discrete_sample.append(i+1)\n",
    "    \n",
    "    return discrete_sample\n",
    "\n",
    "def crude_method(pdf, size):    \n",
    "    \n",
    "    U = np.random.uniform(size=size)\n",
    "    cdf = np.cumsum(pdf)\n",
    "    intervals = [(0, cdf[0])]+[(cdf[i-1], cdf[i]) for i in range(1, len(cdf))]\n",
    "    \n",
    "    return insert_into_categories(U, intervals)"
   ]
  },
  {
   "attachments": {},
   "cell_type": "markdown",
   "metadata": {},
   "source": [
    "Generating sample and testing"
   ]
  },
  {
   "cell_type": "code",
   "execution_count": 80,
   "metadata": {},
   "outputs": [
    {
     "name": "stdout",
     "output_type": "stream",
     "text": [
      "----- Direct/Crude Method -----\n",
      "\n",
      "----- Count Distributions -----\n",
      "Generated: [1518, 1006, 1207, 593, 2502, 3174]\n",
      "Expected: [1458.3333333333335, 1041.6666666666667, 1250.0, 625.0, 2500.0, 3125.0]\n",
      "\n",
      "----- Performing chi-squared test (alpha = 5%) -----\n",
      "Test statistic: 7.549965714285706\n",
      "P-value: 0.18284422214133986\n",
      "\n",
      "----- Visual Comparison between PDFs -----\n"
     ]
    },
    {
     "data": {
      "image/png": "[encoded data removed]",
      "text/plain": [
       "<Figure size 640x480 with 1 Axes>"
      ]
     },
     "metadata": {},
     "output_type": "display_data"
    }
   ],
   "source": [
    "print(\"----- Direct/Crude Method -----\\n\")\n",
    "\n",
    "crude_sample = crude_method(dist_6pt, 10000)\n",
    "\n",
    "\n",
    "\n",
    "test(make_freq_dist(crude_sample), dist_6pt, crude_sample)"
   ]
  },
  {
   "attachments": {},
   "cell_type": "markdown",
   "metadata": {},
   "source": [
    "#### (b) by using the the rejection method"
   ]
  },
  {
   "cell_type": "code",
   "execution_count": 81,
   "metadata": {},
   "outputs": [],
   "source": [
    "def accept_reject_method(pdf, size, k, c=1):\n",
    "    \n",
    "    X = []\n",
    "    \n",
    "    while len(X) < size:\n",
    "    \n",
    "        U1, U2 = np.random.uniform(), np.random.uniform()\n",
    "        I = floor(k*U1)+1\n",
    "        p_I = pdf[int(I)-1]\n",
    "        if U2 <= p_I/c: X.append(I)\n",
    "    \n",
    "    \n",
    "    return X"
   ]
  },
  {
   "cell_type": "code",
   "execution_count": 82,
   "metadata": {},
   "outputs": [
    {
     "name": "stdout",
     "output_type": "stream",
     "text": [
      "----- Accept/Reject Method -----\n",
      "\n",
      "----- Count Distributions -----\n",
      "Generated: [1443, 1060, 1210, 645, 2591, 3051]\n",
      "Expected: [1458.3333333333335, 1041.6666666666667, 1250.0, 625.0, 2500.0, 3125.0]\n",
      "\n",
      "----- Performing chi-squared test (alpha = 5%) -----\n",
      "Test statistic: 7.468605714285714\n",
      "P-value: 0.18805598481846914\n",
      "\n",
      "----- Visual Comparison between PDFs -----\n"
     ]
    },
    {
     "data": {
      "image/png": "[encoded data removed]",
      "text/plain": [
       "<Figure size 640x480 with 1 Axes>"
      ]
     },
     "metadata": {},
     "output_type": "display_data"
    }
   ],
   "source": [
    "ar_sample = accept_reject_method(dist_6pt, 10000, len(dist_6pt))\n",
    "print(\"----- Accept/Reject Method -----\\n\")\n",
    "test(make_freq_dist(ar_sample), dist_6pt, ar_sample)"
   ]
  },
  {
   "attachments": {},
   "cell_type": "markdown",
   "metadata": {},
   "source": [
    "#### (c) by using the Alias method"
   ]
  },
  {
   "cell_type": "code",
   "execution_count": 108,
   "metadata": {},
   "outputs": [],
   "source": [
    "def gen_tables(pdf,k=6):\n",
    "    \n",
    "    \n",
    "    L = [i for i in range(k)] # 1\n",
    "    F = [k*i for i in pdf] # 2\n",
    "\n",
    "    G, S = [i for i in range(len(F)) if F[i] >= 1], [i for i in range(len(F)) if F[i] <= 1] # 3\n",
    "\n",
    "         \n",
    "    print(f\"G: {G}\")\n",
    "    print(f\"S: {S}\")\n",
    "\n",
    "    \n",
    "    while len(S) != 0: # 4\n",
    "       \n",
    "        i, j = G[0], S[0] # (a)\n",
    "       \n",
    "        L[j] = i #(b)\n",
    "        F[i] = F[i] - (1 - F[j]) #(b)\n",
    "       \n",
    "        if F[i] < 1-(1e-8): # (c)\n",
    "       \n",
    "            G = G[1:]\n",
    "            S.append(i)\n",
    "       \n",
    "        S = S[1:] # (d)\n",
    "\n",
    "    print(f\"L: {L}\")\n",
    "    print(f\"F: {F}\")\n",
    "\n",
    "    return F, L\n",
    "\n",
    "def alias_method(pdf, size, k=6):\n",
    "    F, L = gen_tables(pdf)\n",
    "    X = []\n",
    "    while len(X) < size:\n",
    "    \n",
    "        U1, U2 = np.random.uniform(), np.random.uniform()\n",
    "        I = floor(k*U1)\n",
    "\n",
    "        if U2 <= F[I]: X.append(I+1)\n",
    "        else: X.append(L[I]+1)\n",
    "    return X"
   ]
  },
  {
   "cell_type": "code",
   "execution_count": 109,
   "metadata": {},
   "outputs": [
    {
     "name": "stdout",
     "output_type": "stream",
     "text": [
      "G: [4, 5]\n",
      "S: [0, 1, 2, 3]\n",
      "L: [4, 4, 4, 5, 5, 5]\n",
      "F: [0.875, 0.625, 0.75, 0.375, 0.75, 1.0]\n",
      "----- Alias Method -----\n",
      "\n",
      "----- Count Distributions -----\n",
      "Generated: [14477, 10348, 12460, 6265, 25145, 31305]\n",
      "Expected: [14583.333333333334, 10416.666666666668, 12500.0, 6250.0, 25000.0, 31250.0]\n",
      "\n",
      "----- Performing chi-squared test (alpha = 5%) -----\n",
      "Test statistic: 2.329772571428596\n",
      "P-value: 0.8018843455002385\n",
      "\n",
      "----- Visual Comparison between PDFs -----\n"
     ]
    },
    {
     "data": {
      "image/png": "[encoded data removed]",
      "text/plain": [
       "<Figure size 640x480 with 1 Axes>"
      ]
     },
     "metadata": {},
     "output_type": "display_data"
    }
   ],
   "source": [
    "alias_sample = alias_method(dist_6pt, 100000)\n",
    "\n",
    "print(\"----- Alias Method -----\\n\")\n",
    "test(make_freq_dist(alias_sample), dist_6pt, alias_sample)"
   ]
  },
  {
   "attachments": {},
   "cell_type": "markdown",
   "metadata": {},
   "source": [
    "### 3 - Analysis of Results \n",
    "\n",
    "Compare the three different methods using adequate criteria, then discuss the results."
   ]
  },
  {
   "attachments": {},
   "cell_type": "markdown",
   "metadata": {},
   "source": [
    "Results for each test:\n",
    "\n",
    "\n",
    "| Method   | $\\chi^2$ (p-value)  |\n",
    "|---|---|\n",
    "| Crude/Direct  | 0.593 |\n",
    "| Rejection  | 0.362  |\n",
    "| Alias  | 0.802  |\n",
    "\n"
   ]
  },
  {
   "attachments": {},
   "cell_type": "markdown",
   "metadata": {},
   "source": [
    "**Problem 3 - Conclusion**\n",
    "\n",
    "- Based on values obtained from $\\chi^2$ testing, we have the following heirarchy of methods which produce the \"best\" results:\n",
    "    1. Alias\n",
    "    2. Accept/Reject\n",
    "    3. Crude/Direct"
   ]
  },
  {
   "attachments": {},
   "cell_type": "markdown",
   "metadata": {},
   "source": [
    "### 4 - Recommendations\n"
   ]
  },
  {
   "attachments": {},
   "cell_type": "markdown",
   "metadata": {},
   "source": [
    "**Problem 4 - Recommendations**"
   ]
  }
 ],
 "metadata": {
  "kernelspec": {
   "display_name": "base",
   "language": "python",
   "name": "python3"
  },
  "language_info": {
   "codemirror_mode": {
    "name": "ipython",
    "version": 3
   },
   "file_extension": ".py",
   "mimetype": "text/x-python",
   "name": "python",
   "nbconvert_exporter": "python",
   "pygments_lexer": "ipython3",
   "version": "3.7.16"
  },
  "orig_nbformat": 4
 },
 "nbformat": 4,
 "nbformat_minor": 2
}
