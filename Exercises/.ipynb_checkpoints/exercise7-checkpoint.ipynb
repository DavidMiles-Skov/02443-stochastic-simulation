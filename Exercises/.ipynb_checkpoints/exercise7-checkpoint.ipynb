{
 "cells": [
  {
   "cell_type": "markdown",
   "metadata": {},
   "source": [
    "-----\n",
    "\n",
    "### Exercise 7 - Simulated Annealing"
   ]
  },
  {
   "cell_type": "markdown",
   "metadata": {},
   "source": [
    "(1) slide 12 -> should visit all stations"
   ]
  },
  {
   "cell_type": "code",
   "execution_count": 12,
   "metadata": {},
   "outputs": [],
   "source": [
    "import numpy as np\n",
    "from random import random, randint\n",
    "from math import exp\n",
    "import matplotlib.pyplot as plt\n",
    "import matplotlib.pyplot as plt"
   ]
  },
  {
   "cell_type": "markdown",
   "metadata": {},
   "source": [
    "(a) The overall algorithm for the TSP generates a matrix with the euclidian distances between each pair of cities, given a list of connected cities (represented in tuples). A random permutation of station is initialized and for every iteration in the loop we generate a new route candidate by switching the positions betwen 2 randomly slected cities. If the candidate has a lower distance cost than the old route, then we accept it as the current best route, otherwise we accept it only if a randomly generated uniformly distributed variable is at most the probability exp(−delta/Ti), where delta is the difference between the cost of the candidate and the current best route and Ti is the current temperature."
   ]
  },
  {
   "cell_type": "code",
   "execution_count": 298,
   "metadata": {},
   "outputs": [
    {
     "name": "stdout",
     "output_type": "stream",
     "text": [
      "[10 11  2  9  1  0  7 15  8  3  4  5 14 12  6 13] 68.00670520808521\n"
     ]
    },
    {
     "data": {
      "image/png": "[encoded data removed]",
      "text/plain": [
       "<Figure size 640x480 with 1 Axes>"
      ]
     },
     "metadata": {},
     "output_type": "display_data"
    }
   ],
   "source": [
    "def euclidean(p1, p2):    \n",
    "    return ((p1[0] - p2[0])**2 + (p1[1] - p2[1])**2)**0.5\n",
    "\n",
    "cities = [(14, 1), (10, 3), (7, 6), (1, 12), (2, 14), (6, 13), (12, 9), (13, 7), (2, 14), (10, 3), (6, 1), (1, 6), (13, 14), (13, 6), (9, 12), (5, 16)]\n",
    "\n",
    "dist_matrix = []\n",
    "\n",
    "#QUESTION a\n",
    "#set distances between cities in circle\n",
    "for i in range(len(cities)):\n",
    "    row = []\n",
    "    for j in range(len(cities)):\n",
    "        row.append(euclidean(cities[i], cities[j]))\n",
    "    \n",
    "    dist_matrix.append(row)\n",
    "\n",
    "\n",
    "\n",
    "# Add a large cost for traveling to or from city 1\n",
    "n_cities = len(dist_matrix)\n",
    "\n",
    "# Define the Simulated Annealing algorithm\n",
    "def simulated_annealing(dist_matrix, n_iter, temp, cooling_rate):\n",
    "    # Initialize the route\n",
    "    n_cities = len(dist_matrix)\n",
    "    #create array with n cities ordered\n",
    "    route = np.arange(n_cities)\n",
    "    #print(route)\n",
    "\n",
    "    #Generate a permutation of route S \n",
    "    np.random.shuffle(route)\n",
    "\n",
    "    #print(route)\n",
    "\n",
    "\n",
    "    # Initialize the best route and its cost\n",
    "    best_route = route.copy()\n",
    "    best_cost = 0\n",
    "    for i in range(n_cities-1):\n",
    "        best_cost += dist_matrix[best_route[i]] [best_route[i+1]]\n",
    "\n",
    "    #best_cost = np.sum(dist_matrix[best_route[:-1], best_route[1:]]) + dist_matrix[best_route[-1], best_route[0]]\n",
    "\n",
    "    # Initialize the iteration counter\n",
    "    iter_count = 0\n",
    "\n",
    "    # Run the Simulated Annealing algorithm\n",
    "    while iter_count < n_iter:\n",
    "        # Update the temperature\n",
    "        t = cooling_rate(temp, iter_count)\n",
    "\n",
    "        # Generate a new candidate route\n",
    "        candidate = route.copy()\n",
    "        i, j = np.random.choice(n_cities, size=2, replace=False)\n",
    "        candidate[i], candidate[j] = candidate[j], candidate[i]\n",
    "\n",
    "        # Calculate the cost of the candidate route\n",
    "        candidate_cost = 0\n",
    "        for i in range(n_cities-1):\n",
    "            candidate_cost += dist_matrix[candidate[i]][candidate[i+1]]\n",
    "\n",
    "        # Determine whether to accept the candidate route\n",
    "        if candidate_cost < best_cost:\n",
    "            route = candidate.copy()\n",
    "            best_cost = candidate_cost\n",
    "            best_route = route.copy()\n",
    "        else:\n",
    "            delta = candidate_cost - best_cost\n",
    "            acceptance_prob = np.exp(-delta / t)\n",
    "            #slide9\n",
    "            if np.random.uniform() < acceptance_prob:\n",
    "                route = candidate.copy()\n",
    "\n",
    "        # Increment the iteration counter\n",
    "        iter_count += 1\n",
    "\n",
    "    return best_route, best_cost\n",
    "\n",
    "# Run the Simulated Annealing algorithm on the modified cost matrix\n",
    "best_route, best_cost = simulated_annealing(dist_matrix, n_iter=1000000, temp=1000, cooling_rate= lambda t, i: t / (1 + i)**0.5)\n",
    "print(best_route, best_cost)\n",
    "# Plot the cities and the best route\n",
    "x = [coord[0] for coord in cities]\n",
    "y = [coord[1] for coord in cities]\n",
    "plt.figure()\n",
    "plt.scatter(x, y, color='blue', s=10)\n",
    "best_route_x = [x[i] for i in best_route] + [x[best_route[0]]]\n",
    "best_route_y = [y[i] for i in best_route] + [y[best_route[0]]]\n",
    "plt.plot(best_route_x, best_route_y, color='red', linewidth=2)\n",
    "plt.xlim([min(x)-10, max(x)+10])\n",
    "plt.ylim([min(y)-10, max(y)+10])\n",
    "plt.show()"
   ]
  },
  {
   "cell_type": "markdown",
   "metadata": {},
   "source": [
    "(b)"
   ]
  },
  {
   "cell_type": "code",
   "execution_count": 177,
   "metadata": {},
   "outputs": [],
   "source": [
    "costs = [0,225,110,8,257,22,83,231,277,243,94,30,4,265,274,250,87,83,271,86,\n",
    "         255,0,265,248,103,280,236,91,3,87,274,265,236,8,24,95,247,259,28,259,\n",
    "         87,236,0,95,248,110,25,274,250,271,9,244,83,250,248,280,29,26,239,7,\n",
    "         8,280,83,0,236,28,91,239,280,259,103,23,6,280,244,259,95,87,230,84,\n",
    "         268,87,239,271,0,244,275,9,84,25,244,239,275,83,110,24,274,280,84,274,\n",
    "         21,265,99,29,259,0,99,230,265,271,87,5,22,239,236,250,87,95,271,91,\n",
    "         95,236,28,91,247,93,0,247,259,244,27,91,87,268,275,280,7,8,240,27,\n",
    "         280,83,250,261,4,239,230,0,103,24,239,261,271,95,87,21,274,255,110,280,\n",
    "         247,9,280,274,84,255,259,99,0,87,255,274,280,3,27,83,259,244,28,274,\n",
    "         230,103,268,275,23,244,264,28,83,0,268,275,261,91,95,8,277,261,84,247,\n",
    "         87,239,9,103,261,110,29,255,239,261,0,259,84,239,261,242,24,25,242,5,\n",
    "         30,255,95,30,247,4,87,274,242,255,99,0,24,280,274,259,91,83,247,91,\n",
    "         8,261,83,6,255,29,103,261,247,242,110,29,0,261,244,230,87,84,280,100,\n",
    "         242,8,259,280,99,242,244,99,3,84,280,236,259,0,27,95,274,261,24,268,\n",
    "         274,22,250,236,83,261,247,103,22,91,250,236,261,25,0,103,255,261,5,247,\n",
    "         244,91,261,255,28,236,261,29,103,9,242,261,244,87,110,0,242,236,95,259,\n",
    "         84,236,27,99,230,83,7,259,230,230,22,87,93,250,255,247,0,9,259,24,\n",
    "         91,242,28,87,250,110,6,271,271,255,27,103,84,250,271,244,5,0,271,29,\n",
    "         261,24,250,271,84,255,261,87,28,110,250,248,248,22,3,103,271,248,0,236,\n",
    "         103,271,8,91,255,91,21,271,236,271,7,250,83,247,250,271,22,27,248,0]\n",
    "costs = np.array(costs).reshape(-1, 20)"
   ]
  },
  {
   "cell_type": "code",
   "execution_count": 297,
   "metadata": {},
   "outputs": [
    {
     "name": "stdout",
     "output_type": "stream",
     "text": [
      "[16 12  0 13 14  6  8  9  7 18  1  2 10 11  4 19  3  5 17 15] 2660\n"
     ]
    }
   ],
   "source": [
    "def euclidean(p1, p2):    \n",
    "    return ((p1[0] - p2[0])**2 + (p1[1] - p2[1])**2)**0.5\n",
    "\n",
    "\n",
    "\n",
    "\n",
    "\n",
    "#cities = [(14, 1), (10, 3), (7, 6), (1, 12), (2, 14), (6, 13), (12, 9), (13, 7)]\n",
    "\n",
    "dist_matrix = costs\n",
    "\n",
    "\n",
    "\n",
    "# Add a large cost for traveling to or from city 1\n",
    "n_cities = len(dist_matrix)\n",
    "\n",
    "# Define the Simulated Annealing algorithm\n",
    "def simulated_annealing(dist_matrix, n_iter, temp, cooling_rate):\n",
    "    # Initialize the route\n",
    "    n_cities = len(dist_matrix)\n",
    "    #create array with n cities ordered\n",
    "    route = np.arange(n_cities)\n",
    "    #print(route)\n",
    "\n",
    "    #Generate a permutation of route S \n",
    "    np.random.shuffle(route)\n",
    "\n",
    "    #print(route)\n",
    "\n",
    "\n",
    "    # Initialize the best route and its cost\n",
    "    best_route = route.copy()\n",
    "    best_cost = 0\n",
    "    for i in range(n_cities-1):\n",
    "        best_cost += dist_matrix[best_route[i]] [best_route[i+1]]\n",
    "\n",
    "    #best_cost = np.sum(dist_matrix[best_route[:-1], best_route[1:]]) + dist_matrix[best_route[-1], best_route[0]]\n",
    "\n",
    "    # Initialize the iteration counter\n",
    "    iter_count = 0\n",
    "\n",
    "    # Run the Simulated Annealing algorithm\n",
    "    while iter_count < n_iter:\n",
    "        # Update the temperature\n",
    "        t = cooling_rate(temp, iter_count)\n",
    "\n",
    "        # Generate a new candidate route\n",
    "        candidate = route.copy()\n",
    "        i, j = np.random.choice(n_cities, size=2, replace=False)\n",
    "        candidate[i], candidate[j] = candidate[j], candidate[i]\n",
    "\n",
    "        # Calculate the cost of the candidate route\n",
    "        candidate_cost = 0\n",
    "        for i in range(n_cities-1):\n",
    "            candidate_cost += dist_matrix[candidate[i]][candidate[i+1]]\n",
    "\n",
    "        # Determine whether to accept the candidate route\n",
    "        if candidate_cost < best_cost:\n",
    "            route = candidate.copy()\n",
    "            best_cost = candidate_cost\n",
    "            best_route = route.copy()\n",
    "        else:\n",
    "            delta = candidate_cost - best_cost\n",
    "            #slide9\n",
    "            acceptance_prob = np.exp(-delta / t)\n",
    "             \n",
    "            if np.random.uniform() < acceptance_prob:\n",
    "                # use the candidate route as the permuted route, to be the next candidate\n",
    "                route = candidate.copy()\n",
    "\n",
    "        # Increment the iteration counter\n",
    "        iter_count += 1\n",
    "\n",
    "    return best_route, best_cost\n",
    "\n",
    "# Run the Simulated Annealing algorithm on the modified cost matrix\n",
    "best_route, best_cost = simulated_annealing(dist_matrix, n_iter=10, temp=1000, cooling_rate= lambda t, i: t / (1 + i)**0.5)\n",
    "print(best_route, best_cost)\n"
   ]
  },
  {
   "cell_type": "markdown",
   "metadata": {},
   "source": [
    "**From this exercise we learned that simulated annealing can be used to stochastically try and find a route, by switching the connections between cities in n iterations, which has the least total distance between cities.**"
   ]
  }
 ],
 "metadata": {
  "kernelspec": {
   "display_name": "Python 3 (ipykernel)",
   "language": "python",
   "name": "python3"
  },
  "language_info": {
   "codemirror_mode": {
    "name": "ipython",
    "version": 3
   },
   "file_extension": ".py",
   "mimetype": "text/x-python",
   "name": "python",
   "nbconvert_exporter": "python",
   "pygments_lexer": "ipython3",
   "version": "3.7.16"
  }
 },
 "nbformat": 4,
 "nbformat_minor": 2
}
