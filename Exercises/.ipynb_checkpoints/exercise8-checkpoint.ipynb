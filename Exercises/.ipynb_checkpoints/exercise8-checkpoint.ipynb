{
 "cells": [
  {
   "cell_type": "markdown",
   "metadata": {},
   "source": [
    "-----------\n",
    "### Exercise 8 - Bootstrap"
   ]
  },
  {
   "cell_type": "markdown",
   "metadata": {},
   "source": [
    "(a)\n",
    "\n",
    "We could simulate a sample from X (consists of n observations) and sample from the resulting empirical distribution, n observations each sample (sample from original with replacement). Repeat this r times. For each sample we would count the number of observations y that satisfy the condition a < y - mean(X) < b and divide that number by n to get the cumulative distribution of the condition.\n",
    "\n"
   ]
  },
  {
   "cell_type": "markdown",
   "metadata": {},
   "source": [
    "(b) \n",
    "\n",
    "\n",
    "We generate 1000 replicates of the data and for each replicate add the result of the subtraction between its mean and the mean of the original data to another array samples. Finally, the estimate of the probability is then computed by counting how many observations fall between the interval ]a, b[."
   ]
  },
  {
   "cell_type": "code",
   "execution_count": 224,
   "metadata": {},
   "outputs": [
    {
     "name": "stdout",
     "output_type": "stream",
     "text": [
      " 0.764 \n"
     ]
    }
   ],
   "source": [
    "import numpy as np\n",
    "import random\n",
    "import scipy.stats as stats\n",
    "\n",
    "n = 10\n",
    "r = 1000\n",
    "a, b = -5, 5\n",
    "\n",
    "X =  [56, 101, 78, 67, 93, 87, 64, 72, 80, 69]\n",
    "m = np.mean(X)\n",
    "n = len(X)\n",
    "\n",
    "samples = []\n",
    "for _ in range(r):\n",
    "    y = []\n",
    "    #generate sub-sample of size n\n",
    "    for j in range(n):\n",
    "        c = random.randrange(n)\n",
    "        y.append(X[c])\n",
    "\n",
    "    # append the mean of the replicate minus the mean of the original data X\n",
    "    samples.append(np.mean(y) - m)\n",
    "\n",
    "# get number of observations that are between a and b\n",
    "count = 0\n",
    "for i in samples:\n",
    "    if i >= a and i <= b:\n",
    "        count += 1\n",
    "\n",
    "# calculate the probability\n",
    "prob = count / r\n",
    "\n",
    "estimate = np.mean(samples)\n",
    "print(f\" {prob} \")\n",
    "\n",
    "\n",
    "\n"
   ]
  },
  {
   "cell_type": "markdown",
   "metadata": {},
   "source": [
    "(15) For each replicate we compute the variance of it and after collecting all the variances of the replicates, we compute the value of Var(S^2) by finding the variance of the sample collected."
   ]
  },
  {
   "cell_type": "code",
   "execution_count": 226,
   "metadata": {},
   "outputs": [
    {
     "name": "stdout",
     "output_type": "stream",
     "text": [
      " 58.861387344086175, 6.554140520774003 \n"
     ]
    }
   ],
   "source": [
    "r = 1000\n",
    "a, b = -5, 5\n",
    "\n",
    "X =  [5,4,9,6,21,17,11,20,7,10,21,15,13,16,8]\n",
    "m = np.mean(X)\n",
    "n = len(X)\n",
    "sim = 20\n",
    "\n",
    "var_s2 = []\n",
    "for _ in range(sim):\n",
    "\n",
    "    samples = []\n",
    "    for _ in range(r):\n",
    "        y = []\n",
    "        #generate sub-sample of size n\n",
    "        for j in range(n):\n",
    "            c = random.randrange(n)\n",
    "            y.append(X[c])\n",
    "        \n",
    "        count = 0\n",
    "        for i in y:\n",
    "            count += (i - np.mean(y))**2 \n",
    "\n",
    "        samples.append(count)\n",
    "\n",
    "    s2 = [s / (n-1) for s in samples]\n",
    "    estimate = np.mean(s2)\n",
    "    variance = np.var(s2)\n",
    "\n",
    "    var_s2.append(variance)\n",
    "\n",
    "\n",
    "print(f\" {np.mean(var_s2)}, {np.var(var_s2)} \")"
   ]
  },
  {
   "cell_type": "markdown",
   "metadata": {},
   "source": [
    "(3)"
   ]
  },
  {
   "cell_type": "code",
   "execution_count": 227,
   "metadata": {},
   "outputs": [
    {
     "name": "stdout",
     "output_type": "stream",
     "text": [
      "Mean: 4.326710926485393\n",
      "Median: 1.0738920605715006\n",
      "Bootstrap estimate of the mean: 4.399364983223917\n",
      "Bootstrap estimate of the variance of the mean: 1.2617750421029998\n",
      "Bootstrap estimate of the median: 1.0607755255550448\n",
      "Bootstrap estimate of the variance of the median: 0.024912755962120742\n",
      "Variance relation: 0.019744213612434957\n"
     ]
    }
   ],
   "source": [
    "\n",
    "\n",
    "def bootstrap_variance(data, r=100):\n",
    "\n",
    "    n = len(data)\n",
    "\n",
    "    # Get replicates\n",
    "\n",
    "    replicates = []\n",
    "    for _ in range(r):\n",
    "        y = []\n",
    "        #generate sub-sample of size n\n",
    "        for _ in range(n):\n",
    "            c = random.randrange(n)\n",
    "            y.append(data[c])\n",
    "\n",
    "        replicates.append(y)\n",
    "\n",
    "    # Calculate the median of each replicate\n",
    "    medians = np.array([np.median(rep) for rep in replicates])\n",
    "\n",
    "    # Calculate the median of each replicate\n",
    "    means = np.array([np.mean(rep) for rep in replicates])\n",
    "\n",
    "    # Calculate the variance of the median across replicates\n",
    "    median_mean = np.mean(medians)\n",
    "    median_variance = np.var(medians, ddof=1)\n",
    "\n",
    "    mean_mean = np.mean(means)\n",
    "    mean_variance = np.var(means, ddof=1)\n",
    "\n",
    "    return median_mean, median_variance, mean_mean, mean_variance\n",
    "\n",
    "# Simulate 200 Pareto distributed random variates with β = 1 and k = 1.05\n",
    "data = np.random.pareto(1.05, 200)\n",
    "\n",
    "\n",
    "\n",
    "# Calculate the median and bootstrap estimate of the variance of the median\n",
    "med_m, med_var, m_m, m_var = bootstrap_variance(data)\n",
    "\n",
    "print(\"Mean:\", np.mean(data))\n",
    "print(\"Median:\", np.median(data))\n",
    "print(\"Bootstrap estimate of the mean:\", m_m)\n",
    "print(\"Bootstrap estimate of the variance of the mean:\", m_var)\n",
    "print(\"Bootstrap estimate of the median:\", med_m)\n",
    "print(\"Bootstrap estimate of the variance of the median:\", med_var)\n",
    "print(\"Variance relation:\", med_var/m_var)"
   ]
  },
  {
   "cell_type": "markdown",
   "metadata": {},
   "source": [
    "We can observe that the variance of bootstrap estimate of the median is significantly smaller than the variance of bootstrap estimate of the mean. This observation is surprising since the replicates are generated by picking random observed values from the Pareto distribution with replacement. This explains the higher spread of the estimate of the mean."
   ]
  }
 ],
 "metadata": {
  "kernelspec": {
   "display_name": "Python 3 (ipykernel)",
   "language": "python",
   "name": "python3"
  },
  "language_info": {
   "codemirror_mode": {
    "name": "ipython",
    "version": 3
   },
   "file_extension": ".py",
   "mimetype": "text/x-python",
   "name": "python",
   "nbconvert_exporter": "python",
   "pygments_lexer": "ipython3",
   "version": "3.7.16"
  }
 },
 "nbformat": 4,
 "nbformat_minor": 2
}
