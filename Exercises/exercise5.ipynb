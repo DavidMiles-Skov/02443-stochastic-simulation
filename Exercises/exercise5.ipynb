{
 "cells": [
  {
   "attachments": {},
   "cell_type": "markdown",
   "metadata": {},
   "source": [
    "(1)"
   ]
  },
  {
   "cell_type": "code",
   "execution_count": 52,
   "metadata": {},
   "outputs": [
    {
     "name": "stdout",
     "output_type": "stream",
     "text": [
      "Estimated integral: 10.155062368515146, Variance: 17.689055522841468\n",
      "95% Confidence interval: [1.9116240266248035, 18.39850071040549]\n"
     ]
    }
   ],
   "source": [
    "import numpy as np\n",
    "import matplotlib.pyplot as plt\n",
    "from scipy.integrate import trapz\n",
    "\n",
    "def monte_carlo_integration(n_samples):\n",
    "    # Generate random samples uniformly distributed in [0, 1]\n",
    "    samples = np.random.uniform(0, 1, n_samples)\n",
    "\n",
    "    # Evaluate the function e^x at each sample point\n",
    "    function_values = np.exp(samples)\n",
    "\n",
    "    # Multiply the function values by the width of the interval and sum them up\n",
    "    point_estimator = np.sum(function_values)\n",
    "\n",
    "    # Calculate the variance of the estimator\n",
    "    variance = (n_samples - 1) * np.mean(function_values ** 2) / np.exp(np.mean(samples))\n",
    "\n",
    "    # Normalize the point estimator to obtain the true value of the integral\n",
    "    integral_estimate = point_estimator / np.exp(np.mean(samples))\n",
    "\n",
    "    return integral_estimate, variance\n",
    "\n",
    "# Estimate the integral using 100 samples\n",
    "n_samples = 10\n",
    "estimate, variance = monte_carlo_integration(n_samples)\n",
    "print(f\"Estimated integral: {estimate}, Variance: {variance}\")\n",
    "\n",
    "# Construct a 95% confidence interval\n",
    "confidence_level = 0.95\n",
    "alpha = 1 - confidence_level\n",
    "z = 1.96  # Standard normal deviate corresponding to the given confidence level\n",
    "\n",
    "confidence_interval = (estimate - z * np.sqrt(variance), estimate + z * np.sqrt(variance))\n",
    "print(f\"95% Confidence interval: [{confidence_interval[0]}, {confidence_interval[1]}]\")"
   ]
  },
  {
   "attachments": {},
   "cell_type": "markdown",
   "metadata": {},
   "source": [
    "(2)"
   ]
  },
  {
   "cell_type": "code",
   "execution_count": 35,
   "metadata": {},
   "outputs": [
    {
     "data": {
      "text/plain": [
       "1.717341001328949"
      ]
     },
     "execution_count": 35,
     "metadata": {},
     "output_type": "execute_result"
    }
   ],
   "source": [
    "def f(x):\n",
    "    return np.exp(x)\n",
    "\n",
    "n = 1000  # Number of samples\n",
    "u = np.random.rand(n)\n",
    "antithetic_u = np.concatenate((u[:n // 2], 1 - u[:n // 2]))\n",
    "\n",
    "x = antithetic_u\n",
    "y = f(x)\n",
    "integral_estimate = np.mean(y)\n",
    "\n",
    "integral_estimate"
   ]
  },
  {
   "attachments": {},
   "cell_type": "markdown",
   "metadata": {},
   "source": [
    "(3)"
   ]
  },
  {
   "cell_type": "code",
   "execution_count": 43,
   "metadata": {},
   "outputs": [
    {
     "name": "stdout",
     "output_type": "stream",
     "text": [
      "Estimated value of the integral: 1.7181098937339856\n"
     ]
    }
   ],
   "source": [
    "# Define the function to integrate\n",
    "def f(x):\n",
    "    return np.exp(x)\n",
    "\n",
    "# Define the bounds of the integral\n",
    "a = 0\n",
    "b = 1\n",
    "\n",
    "# Define the number of simulations\n",
    "n = 100000\n",
    "\n",
    "# Generate n random variables u from a uniform distribution on the interval [a, b]\n",
    "u = np.random.uniform(a, b, n)\n",
    "\n",
    "# Calculate the expected value of f(x) over the interval [a, b]\n",
    "E_f = trapz(f(np.linspace(a, b, 1000)), np.linspace(a, b, 1000))\n",
    "\n",
    "# Define a control variable\n",
    "def g(x):\n",
    "    return x\n",
    "\n",
    "# Calculate the expected value of g(x) over the interval [a, b]\n",
    "E_g = trapz(g(np.linspace(a, b, 1000)), np.linspace(a, b, 1000))\n",
    "\n",
    "# Calculate the covariance between f(x) and g(x)\n",
    "cov_fg = np.cov(f(u), g(u))[0][1]\n",
    "\n",
    "# Calculate the variance of g(x)\n",
    "var_g = np.var(g(u))\n",
    "\n",
    "# Calculate the optimal value of the control variable\n",
    "c = - cov_fg / var_g\n",
    "\n",
    "# Calculate the estimated value of the integral\n",
    "I = (1/n) * np.sum(f(u) + c * (g(u) - E_g))\n",
    "\n",
    "# Print the estimated value of the integral\n",
    "print(\"Estimated value of the integral:\", I)"
   ]
  },
  {
   "attachments": {},
   "cell_type": "markdown",
   "metadata": {},
   "source": [
    "(4)"
   ]
  },
  {
   "cell_type": "code",
   "execution_count": 41,
   "metadata": {},
   "outputs": [
    {
     "name": "stdout",
     "output_type": "stream",
     "text": [
      "Integral estimate: 0.001\n"
     ]
    }
   ],
   "source": []
  },
  {
   "attachments": {},
   "cell_type": "markdown",
   "metadata": {},
   "source": [
    "(5)"
   ]
  },
  {
   "cell_type": "code",
   "execution_count": 48,
   "metadata": {},
   "outputs": [
    {
     "name": "stdout",
     "output_type": "stream",
     "text": [
      "Control variate estimate: 1.724717579635188\n",
      "True value: 1.718281828459045\n"
     ]
    }
   ],
   "source": [
    "import numpy as np\n",
    "\n",
    "def f(x):\n",
    "    return np.exp(x)\n",
    "\n",
    "strata = [(0, 0.5), (0.5, 1)]\n",
    "\n",
    "\n",
    "def generate_samples(stratum, n):\n",
    "    a, b = stratum\n",
    "    return (b - a) * np.random.random(n) + a\n",
    "\n",
    "n = 1000\n",
    "samples = np.concatenate([generate_samples(stratum, n // len(strata)) for stratum in strata])\n",
    "\n",
    "\n",
    "sample_mean = np.mean(f(samples))\n",
    "sample_var = np.var(f(samples))\n",
    "\n",
    "def g(x):\n",
    "    return x - 1\n",
    "\n",
    "cov = np.cov(f(samples), g(samples))[0, 1]\n",
    "\n",
    "beta_star = cov / sample_var\n",
    "\n",
    "control_variate_mean = sample_mean - beta_star * (np.mean(g(samples)) - g(0.5))\n",
    "\n",
    "print(\"Control variate estimate:\", control_variate_mean)\n",
    "print(\"True value:\", np.exp(1) - 1)\n",
    "\n",
    "\n",
    "\n"
   ]
  }
 ],
 "metadata": {
  "kernelspec": {
   "display_name": "Python 3",
   "language": "python",
   "name": "python3"
  },
  "language_info": {
   "codemirror_mode": {
    "name": "ipython",
    "version": 3
   },
   "file_extension": ".py",
   "mimetype": "text/x-python",
   "name": "python",
   "nbconvert_exporter": "python",
   "pygments_lexer": "ipython3",
   "version": "3.10.5"
  },
  "orig_nbformat": 4
 },
 "nbformat": 4,
 "nbformat_minor": 2
}
